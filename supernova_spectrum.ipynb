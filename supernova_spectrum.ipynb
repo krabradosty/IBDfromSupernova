{
 "cells": [
  {
   "cell_type": "markdown",
   "metadata": {},
   "source": []
  },
  {
   "cell_type": "code",
   "execution_count": 1,
   "metadata": {
    "collapsed": false,
    "scrolled": false
   },
   "outputs": [
    {
     "data": {
      "image/png": "[encoded data removed]",
      "text/plain": [
       "<matplotlib.figure.Figure at 0x7f5fc84c4dd8>"
      ]
     },
     "metadata": {},
     "output_type": "display_data"
    }
   ],
   "source": [
    "from supernovaSpectrum import *\n",
    "import numpy as np\n",
    "import matplotlib.pyplot as plt\n",
    "%matplotlib inline\n",
    "\n",
    "eNu = np.linspace(1.806,50,200)\n",
    "supernovaGen = SupernovaSpectrum(eNu)\n",
    "\n",
    "eNuSpectrum = supernovaGen.shootEnu(100000)\n",
    "plt.hist(eNuSpectrum,100)\n",
    "plt.show()"
   ]
  },
  {
   "cell_type": "code",
   "execution_count": 2,
   "metadata": {
    "collapsed": false,
    "scrolled": false
   },
   "outputs": [
    {
     "data": {
      "image/png": "[encoded data removed]",
      "text/plain": [
       "<matplotlib.figure.Figure at 0x7f5fc84c48d0>"
      ]
     },
     "metadata": {},
     "output_type": "display_data"
    }
   ],
   "source": [
    "from ibdFirstOrder import *\n",
    "import util\n",
    "ibdGen = FirstOrder(10)\n",
    "cosTheta = ibdGen.shootPosAngle(100000)\n",
    "\n",
    "enPos, kN, cosPhi = util.getIbdAll(10, cosTheta)\n",
    "\n",
    "plt.hist(cosPhi, 200)\n",
    "plt.show()"
   ]
  },
  {
   "cell_type": "code",
   "execution_count": 1,
   "metadata": {
    "collapsed": false
   },
   "outputs": [
    {
     "name": "stdout",
     "output_type": "stream",
     "text": [
      "Complete!\n"
     ]
    }
   ],
   "source": [
    "from ibdFromSupernova import *\n",
    "gen = IBDFromSupernova()\n",
    "gen.shoot(10000)\n"
   ]
  },
  {
   "cell_type": "code",
   "execution_count": 4,
   "metadata": {
    "collapsed": true
   },
   "outputs": [],
   "source": [
    "cosPos, enPos, cosN, kinN = gen.get()"
   ]
  },
  {
   "cell_type": "code",
   "execution_count": null,
   "metadata": {
    "collapsed": false,
    "scrolled": true
   },
   "outputs": [],
   "source": [
    "import util\n",
    "import numpy as np\n",
    "import matplotlib.pyplot as plt\n",
    "\n",
    "enPos2 = util.getdF_dEnu(np.linspace(1.806,50,200))*util.getdSigma_dEpos(np.linspace(1.806,50,200))\n",
    "plt.plot(np.linspace(1.806,50,200),enPos2)\n",
    "plt.show()"
   ]
  },
  {
   "cell_type": "code",
   "execution_count": null,
   "metadata": {
    "collapsed": true
   },
   "outputs": [],
   "source": []
  },
  {
   "cell_type": "code",
   "execution_count": null,
   "metadata": {
    "collapsed": true
   },
   "outputs": [],
   "source": []
  }
 ],
 "metadata": {
  "kernelspec": {
   "display_name": "Python 3",
   "language": "python",
   "name": "python3"
  },
  "language_info": {
   "codemirror_mode": {
    "name": "ipython",
    "version": 3
   },
   "file_extension": ".py",
   "mimetype": "text/x-python",
   "name": "python",
   "nbconvert_exporter": "python",
   "pygments_lexer": "ipython3",
   "version": "3.5.1+"
  }
 },
 "nbformat": 4,
 "nbformat_minor": 0
}
